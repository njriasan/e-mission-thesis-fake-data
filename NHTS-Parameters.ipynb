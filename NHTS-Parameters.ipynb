{
 "cells": [
  {
   "cell_type": "code",
   "execution_count": null,
   "metadata": {},
   "outputs": [],
   "source": [
    "import pandas as pd\n",
    "import numpy as np\n",
    "import matplotlib.pyplot as plt\n",
    "import scipy.stats as stats"
   ]
  },
  {
   "cell_type": "code",
   "execution_count": null,
   "metadata": {},
   "outputs": [],
   "source": [
    "# Find the paths to all the nhts provided data\n",
    "datafolder = \"nhts-data/\"\n",
    "perpub_file = datafolder + \"perpub.csv\"\n",
    "trippub_file = datafolder + \"trippub.csv\""
   ]
  },
  {
   "cell_type": "code",
   "execution_count": null,
   "metadata": {},
   "outputs": [],
   "source": [
    "# Load all of the raw data\n",
    "perpub_df = pd.read_csv(perpub_file)\n",
    "trippub_df = pd.read_csv(trippub_file)"
   ]
  },
  {
   "cell_type": "code",
   "execution_count": null,
   "metadata": {},
   "outputs": [],
   "source": [
    "# Filter perpub to only include the data possibly relevant to our parameters\n",
    "# HOUSEID = household label\n",
    "# PERSONID = person number for household\n",
    "# GT1JBLWK = More than 1 job. 1 = yes, 2 = No, others not acquired or not relevant\n",
    "# WRK_HOME = Work from home. 1 = yes, 2 = No, others not acquired or not relevant\n",
    "# WRKTRANS = Transportation mode to work: 1 = Walk, 3 = Car, 4 = SUV, 5 = Van, 6 = Pickup Truck. Others can't be represented\n",
    "# NWALKTRP = Count of walk trips on travel data\n",
    "# TIMETOWK = time to work in minutes\n",
    "# NOCONG = time to work in minutes with no traffic\n",
    "# WRKTIME = work arrival time\n",
    "# SCHTRN1 = Mode to school\n",
    "# SCHTRN2 = Mode from school\n",
    "# FRSTHM17 = Travel began at home location\n",
    "# CNTTDTR = Count of person trips on travel day\n",
    "# GCDWORK = Minimum geodesic distance between home\n",
    "# TRAVDAY = Travel day of the week. 1 = Sunday, 7 = Saturday\n",
    "# SCHTYP = Student status. 1 = Public/private school, 2 = Home schooled, 3 = Not in school\n",
    "# HHSIZE = Household size\n",
    "# R_AGE_IMP = Person age\n",
    "# WORKER = Are tehy a worker? 1 = Yes, 2 = No\n",
    "\n",
    "kept_columns = [\"HOUSEID\", \"PERSONID\", \"WORKER\", \"SCHTYP\"]\n",
    "perpub_df_reduced = perpub_df[kept_columns]"
   ]
  },
  {
   "cell_type": "code",
   "execution_count": null,
   "metadata": {},
   "outputs": [],
   "source": [
    "# Filter trippub to only include the data possibly relevant to our parameters\n",
    "# HOUSEID = household label\n",
    "# PERSONID = person number for household\n",
    "# TDTRPNUM = Counter for each trip a person takes\n",
    "# STRTTIME = start time for a trip\n",
    "# ENDTIME = end time for a trip\n",
    "# TRVLCMIN = trip duration in minutes\n",
    "# TRPMILES = trip distance in miles\n",
    "# TRPTRANS = trip mode. We care about 1 = walk, 3 = car, 4 = SUV, 5 = Van, 6 = pickup truck. We will group 3-6 together\n",
    "# WHYFROM = trip origin purpose. See https://nhts.ornl.gov/assets/codebook_v1.1.pdf for encoding.\n",
    "# WHYTO trip destination purpose\n",
    "# LOOP_TRIP = Are the start and end locations the same? 1 = Yes, 2 = No\n",
    "kept_columns = [\"HOUSEID\", \"PERSONID\", \"TDTRPNUM\", \"TRPMILES\", \"TRPTRANS\", \"WHYFROM\", \"LOOP_TRIP\", \"WHYTO\", \"STRTTIME\", \"ENDTIME\"]\n",
    "trippub_df_reduced = trippub_df[kept_columns]"
   ]
  },
  {
   "cell_type": "code",
   "execution_count": null,
   "metadata": {},
   "outputs": [],
   "source": [
    "df_total = pd.merge(perpub_df_reduced, trippub_df_reduced, on=[\"HOUSEID\",\"PERSONID\"])\n",
    "df_total[\"USERID\"] = df_total[\"HOUSEID\"].astype(str) + df_total[\"PERSONID\"].astype(str)"
   ]
  },
  {
   "cell_type": "code",
   "execution_count": null,
   "metadata": {},
   "outputs": [],
   "source": [
    "# Get max number  of type of trip per use\n",
    "max([i[1] for i in df_total.groupby([\"TRPTRANS\", \"USERID\"]).size().iteritems()])"
   ]
  },
  {
   "cell_type": "code",
   "execution_count": null,
   "metadata": {},
   "outputs": [],
   "source": [
    "# Find IDS to remove with unsupported trips\n",
    "untracked_modes = [19, 20]\n",
    "illicit_trips = df_total[df_total.TRPTRANS.isin(untracked_modes)]\n",
    "ids_to_remove = illicit_trips.USERID.unique()"
   ]
  },
  {
   "cell_type": "code",
   "execution_count": null,
   "metadata": {},
   "outputs": [],
   "source": [
    "# Get a list of all people who don't start at home\n",
    "not_home_df = df_total.sort_values('TDTRPNUM', ascending=True).drop_duplicates(['USERID'])\n",
    "not_home_ids = not_home_df[not_home_df.WHYFROM != 1]\n",
    "ids_to_remove = np.concatenate((ids_to_remove, not_home_ids.USERID.unique()), axis=None)"
   ]
  },
  {
   "cell_type": "code",
   "execution_count": null,
   "metadata": {},
   "outputs": [],
   "source": [
    "# Get a list of all people who don't end at home and don't have a roundtrip\n",
    "df_total = df_total[~df_total.USERID.isin(ids_to_remove)]\n",
    "not_home_df = df_total.sort_values('TDTRPNUM', ascending=False).drop_duplicates(['USERID'])\n",
    "not_home_ids = not_home_df[(not_home_df.WHYTO != 1) & ~((not_home_df.WHYFROM == 1) & (not_home_df.LOOP_TRIP == 1))]\n",
    "ids_to_remove = np.concatenate((ids_to_remove, not_home_ids.USERID.unique()), axis=None)"
   ]
  },
  {
   "cell_type": "code",
   "execution_count": null,
   "metadata": {},
   "outputs": [],
   "source": [
    "home_home_ids = df_total[((df_total.WHYFROM == 1) & (df_total.WHYTO == 1))].drop_duplicates(['USERID'])\n",
    "ids_to_remove = np.concatenate((ids_to_remove, home_home_ids.USERID.unique()), axis=None)"
   ]
  },
  {
   "cell_type": "code",
   "execution_count": null,
   "metadata": {},
   "outputs": [],
   "source": [
    "work_work_ids = df_total[((df_total.WHYFROM == 3) & (df_total.WHYTO == 3))].drop_duplicates(['USERID'])\n",
    "ids_to_remove = np.concatenate((ids_to_remove, work_work_ids.USERID.unique()), axis=None)"
   ]
  },
  {
   "cell_type": "code",
   "execution_count": null,
   "metadata": {},
   "outputs": [],
   "source": [
    "empty_trip_ids = df_total[df_total.TRPMILES <= 0.0].drop_duplicates(['USERID'])\n",
    "ids_to_remove = np.concatenate((ids_to_remove, empty_trip_ids.USERID.unique()), axis=None)"
   ]
  },
  {
   "cell_type": "code",
   "execution_count": null,
   "metadata": {
    "scrolled": true
   },
   "outputs": [],
   "source": [
    "df_total = df_total[~df_total.USERID.isin(ids_to_remove)]\n",
    "df_total"
   ]
  },
  {
   "cell_type": "code",
   "execution_count": null,
   "metadata": {
    "scrolled": true
   },
   "outputs": [],
   "source": [
    "# Convert round trips to 2 trips\n",
    "df_total.reset_index(inplace=True, drop=True)\n",
    "spare_rows = []\n",
    "for i in range(len(df_total.index)):\n",
    "    if (df_total.at[i, \"LOOP_TRIP\"] == 1):\n",
    "        df_total.at[i, \"TRPMILES\"] = df_total.at[i, \"TRPMILES\"] / 2.0\n",
    "        spare_row = df_total.iloc[i,:].copy(deep=True)\n",
    "        # Swap from and to\n",
    "        spare_row[\"WHYTO\"], spare_row[\"WHYFROM\"]  = spare_row[\"WHYFROM\"], spare_row[\"WHYTO\"]\n",
    "        # Increase the trip number\n",
    "        spare_row['TDTRPNUM'] = spare_row['TDTRPNUM'] + 0.5\n",
    "        # Get a new end time. We don't care about start time\n",
    "        start_time = spare_row[\"STRTTIME\"]\n",
    "        end_time = spare_row[\"ENDTIME\"]\n",
    "        hour_diff = ((end_time // 100) - (start_time // 100))\n",
    "        if hour_diff < 0:\n",
    "            hour_diff = 23 - hour_diff\n",
    "        minute_diff = (hour_diff % 2) * 30\n",
    "        hour_diff = (hour_diff // 2)\n",
    "        minute_diff += ((end_time % 100) - (start_time % 100))\n",
    "        new_minutes = (start_time % 100) + minute_diff\n",
    "        if new_minutes > 59:\n",
    "            hour_carry = 1\n",
    "            new_minutes = new_minutes - 59\n",
    "        else:\n",
    "            hour_carry = 0\n",
    "            if new_minutes < 0:\n",
    "                new_minutes = new_minutes + 59\n",
    "        new_hour = ((start_time // 100) + hour_carry + hour_diff) % 24\n",
    "        spare_row[\"ENDTIME\"] = new_hour * 100 + new_minutes\n",
    "            \n",
    "        spare_rows.append(spare_row)\n",
    "df_total = df_total.append(spare_rows, ignore_index=True)"
   ]
  },
  {
   "cell_type": "code",
   "execution_count": null,
   "metadata": {},
   "outputs": [],
   "source": [
    "# Delete all home to home sections\n",
    "df_total[((df_total.WHYFROM == 1) & (df_total.WHYTO == 1))].drop_duplicates(['USERID']).USERID.unique()"
   ]
  },
  {
   "cell_type": "code",
   "execution_count": null,
   "metadata": {},
   "outputs": [],
   "source": [
    "df_total[((df_total.WHYFROM == 3) & (df_total.WHYTO == 3))].drop_duplicates(['USERID']).USERID.unique()"
   ]
  },
  {
   "cell_type": "code",
   "execution_count": null,
   "metadata": {},
   "outputs": [],
   "source": [
    "df_total[df_total.TRPMILES <= 0.0].drop_duplicates(['USERID']).USERID.unique()"
   ]
  },
  {
   "cell_type": "code",
   "execution_count": null,
   "metadata": {},
   "outputs": [],
   "source": [
    "# Find the paths to all the synthpop provided data\n",
    "datafolder = \"synthpop-data/\"\n",
    "person_file = datafolder + \"person.csv\"\n",
    "pop_df = pd.read_csv(person_file)\n",
    "kept_columns = [\"ESR\", \"SCH\"]\n",
    "total_df = pop_df[kept_columns]"
   ]
  },
  {
   "cell_type": "code",
   "execution_count": null,
   "metadata": {},
   "outputs": [],
   "source": []
  }
 ],
 "metadata": {
  "kernelspec": {
   "display_name": "Python 3",
   "language": "python",
   "name": "python3"
  },
  "language_info": {
   "codemirror_mode": {
    "name": "ipython",
    "version": 3
   },
   "file_extension": ".py",
   "mimetype": "text/x-python",
   "name": "python",
   "nbconvert_exporter": "python",
   "pygments_lexer": "ipython3",
   "version": "3.6.9"
  }
 },
 "nbformat": 4,
 "nbformat_minor": 4
}
